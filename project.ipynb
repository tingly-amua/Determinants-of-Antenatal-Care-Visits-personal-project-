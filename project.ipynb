{
 "cells": [
  {
   "cell_type": "markdown",
   "id": "576c6f56",
   "metadata": {},
   "source": [
    "## DETERMINANTS OF ANTENATAL CARE VISITS IN KENYA"
   ]
  },
  {
   "cell_type": "markdown",
   "id": "7829c15d",
   "metadata": {},
   "source": [
    "### Introduction\n",
    "This report aims to assess the determinants of antenatal care visits using the Poisson and negative binomial regression models. The dependent variable will be antenatal care (ANC) visits which is a count variable. Whereas WHO recommends a minimum of 8 visits, Kenya continues to lag behind with an average of just 4 visits. A statistical analysis of these determinants will highlight which are most impactful thus laying a foundation for accurate and evidence-based recoommendations for policy formulation and improvement of the country's health and specifically maternal sector."
   ]
  },
  {
   "cell_type": "code",
   "execution_count": null,
   "id": "823cd06e",
   "metadata": {
    "vscode": {
     "languageId": "plaintext"
    }
   },
   "outputs": [],
   "source": []
  }
 ],
 "metadata": {
  "language_info": {
   "name": "python"
  }
 },
 "nbformat": 4,
 "nbformat_minor": 5
}
